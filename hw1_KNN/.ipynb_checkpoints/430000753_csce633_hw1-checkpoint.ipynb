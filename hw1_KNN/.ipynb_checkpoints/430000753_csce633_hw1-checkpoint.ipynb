{
 "cells": [
  {
   "cell_type": "markdown",
   "metadata": {},
   "source": [
    "# CSCE 633 Homework 1\n",
    "# Source Code and Output for Question 2\n",
    "\n",
    "Name: Rizu Jain | UIN: 430000753"
   ]
  },
  {
   "cell_type": "code",
   "execution_count": 1,
   "metadata": {
    "colab": {},
    "colab_type": "code",
    "id": "ec30n9IopmTL"
   },
   "outputs": [],
   "source": [
    "import numpy as np\n",
    "import matplotlib.pyplot as plt\n",
    "import pandas as pd\n",
    "import seaborn as sns"
   ]
  },
  {
   "cell_type": "code",
   "execution_count": 2,
   "metadata": {
    "colab": {},
    "colab_type": "code",
    "id": "qUTamrLIqc3U"
   },
   "outputs": [],
   "source": [
    "df_train = pd.read_csv('hw1_question1_train.csv', sep=',',header=None)\n",
    "df_dev = pd.read_csv('hw1_question2_dev.csv', sep=',',header=None)\n",
    "df_test = pd.read_csv('hw1_question2_test.csv', sep=',',header=None)\n",
    "\n",
    "# add a column to answer the question is this sample malign? \n",
    "df_train[10] =df_train[9]>3\n",
    "df_dev[10] =df_dev[9]>3\n",
    "df_test[10] =df_test[9]>3"
   ]
  },
  {
   "cell_type": "markdown",
   "metadata": {},
   "source": [
    "# (a.i) Count examples in each class"
   ]
  },
  {
   "cell_type": "code",
   "execution_count": 3,
   "metadata": {
    "colab": {
     "base_uri": "https://localhost:8080/",
     "height": 52
    },
    "colab_type": "code",
    "executionInfo": {
     "elapsed": 1596,
     "status": "ok",
     "timestamp": 1580961767981,
     "user": {
      "displayName": "shubham sanghavi",
      "photoUrl": "",
      "userId": "11841744289252067561"
     },
     "user_tz": 360
    },
    "id": "8GsZBvtRqmP8",
    "outputId": "3ddd8ba8-fe1a-4fe7-eca0-02a8e73dc287"
   },
   "outputs": [
    {
     "name": "stdout",
     "output_type": "stream",
     "text": [
      "No. of Benign samples in training data:  330\n",
      "No. of Malign samples in training data:  153\n"
     ]
    }
   ],
   "source": [
    "\n",
    "count = df_train[9].value_counts()\n",
    "print(\"No. of Benign samples in training data: \", count[2])\n",
    "print(\"No. of Malign samples in training data: \", count[4])"
   ]
  },
  {
   "cell_type": "markdown",
   "metadata": {},
   "source": [
    "# (a.ii) Data Exploration: Distribution of Features"
   ]
  },
  {
   "cell_type": "code",
   "execution_count": null,
   "metadata": {
    "colab": {
     "base_uri": "https://localhost:8080/",
     "height": 314
    },
    "colab_type": "code",
    "executionInfo": {
     "elapsed": 2126,
     "status": "ok",
     "timestamp": 1580961768528,
     "user": {
      "displayName": "shubham sanghavi",
      "photoUrl": "",
      "userId": "11841744289252067561"
     },
     "user_tz": 360
    },
    "id": "kuowiL63nsue",
    "outputId": "6d54d9b4-5be2-4550-9cd4-75ff1a5120f5"
   },
   "outputs": [],
   "source": [
    "for i in range(0,9):\n",
    "    sns.distplot(df_train[i], axlabel = \"Feature \" + str(i+1))\n",
    "    plt.figure()"
   ]
  },
  {
   "cell_type": "markdown",
   "metadata": {},
   "source": [
    "# (a.iii) Scatterplots of Features "
   ]
  },
  {
   "cell_type": "code",
   "execution_count": null,
   "metadata": {
    "colab": {
     "base_uri": "https://localhost:8080/",
     "height": 1000
    },
    "colab_type": "code",
    "executionInfo": {
     "elapsed": 5230,
     "status": "ok",
     "timestamp": 1580961771850,
     "user": {
      "displayName": "shubham sanghavi",
      "photoUrl": "",
      "userId": "11841744289252067561"
     },
     "user_tz": 360
    },
    "id": "GNmnl-JHnsuh",
    "outputId": "547eec5f-e6dc-4e9a-d651-38ab135958e4"
   },
   "outputs": [],
   "source": [
    "X = [0,6,1,5,4]\n",
    "Y = [4,2,3,6,7]\n",
    "\n",
    "for x_label,y_label in zip(X,Y):\n",
    "        sns.scatterplot(x=x_label,y=y_label,hue=10,data=df_train,alpha=0.2)\n",
    "        plt.xlabel(\"Feature \" + str(x_label))\n",
    "        plt.ylabel(\"Feature \" + str(y_label))\n",
    "        plt.figure()"
   ]
  },
  {
   "cell_type": "markdown",
   "metadata": {},
   "source": [
    "# (b.i) Implementation of KNN Classifier"
   ]
  },
  {
   "cell_type": "code",
   "execution_count": 6,
   "metadata": {
    "colab": {},
    "colab_type": "code",
    "id": "ouTRb2OMnsul"
   },
   "outputs": [],
   "source": [
    "def knn_classifier(X_test,k,X_train,Y_train,distance_func):\n",
    "\n",
    "    # apply to each row\n",
    "    dist = np.apply_along_axis(distance_func, 1, X_train, X_test)\n",
    "    # print(dist)\n",
    "\n",
    "    # pick the k-closest\n",
    "    idx = np.argpartition(dist, k)[:k]\n",
    "    # print(idx)\n",
    "\n",
    "    # will count the number of True examples in the idx selected by the selection\n",
    "    pos = np.sum(Y_train[idx])\n",
    "    # print(Y_train[idx])\n",
    "    # print(pos)\n",
    "\n",
    "    # check if more than half of the k examples selected are positive \n",
    "    if pos > (k/2):\n",
    "      Y_test = True \n",
    "    else:\n",
    "      Y_test = False\n",
    "\n",
    "    return Y_test"
   ]
  },
  {
   "cell_type": "code",
   "execution_count": 7,
   "metadata": {
    "colab": {},
    "colab_type": "code",
    "id": "oj4iEpdBt_Rr"
   },
   "outputs": [],
   "source": [
    "def euclidean(vec1,vec2):\n",
    "  vec = (vec1 - vec2) ** 2\n",
    "  ans = np.sum(vec)\n",
    "  return np.sqrt(ans)"
   ]
  },
  {
   "cell_type": "code",
   "execution_count": 8,
   "metadata": {
    "colab": {},
    "colab_type": "code",
    "id": "hNgRAN3_nsun"
   },
   "outputs": [],
   "source": [
    "# prepare the numpy arrays for faster predictions\n",
    "X_train = df_train.iloc[:,:9].values\n",
    "Y_train =  df_train.iloc[:,10].values\n",
    "X_dev = df_dev.iloc[:,:9].values\n",
    "Y_dev =  df_dev.iloc[:,10].values"
   ]
  },
  {
   "cell_type": "code",
   "execution_count": 9,
   "metadata": {
    "colab": {},
    "colab_type": "code",
    "id": "jKjw-sCavoPv"
   },
   "outputs": [],
   "source": [
    "results = []\n",
    "for k in range(1,20,2):\n",
    "  # apply to each row in our X_dev\n",
    "  predictions = np.apply_along_axis(knn_classifier, 1, X_dev,k,X_train,Y_train,euclidean)\n",
    "\n",
    "  acc = np.sum(predictions==Y_dev)/np.shape(Y_dev)\n",
    "\n",
    "  pos_idx = np.where(Y_dev==True)\n",
    "  neg_idx = np.where(Y_dev==False)\n",
    "  bcc = 0.5 *  np.sum(predictions[pos_idx]==Y_dev[pos_idx])/np.shape(Y_dev[pos_idx])\n",
    "  bcc += 0.5 * np.sum(predictions[neg_idx]==Y_dev[neg_idx])/np.shape(Y_dev[neg_idx])\n",
    "  results.append([k,acc[0],bcc[0]])"
   ]
  },
  {
   "cell_type": "markdown",
   "metadata": {},
   "source": [
    "# (b.ii) Metrics with different K values"
   ]
  },
  {
   "cell_type": "code",
   "execution_count": 10,
   "metadata": {
    "colab": {
     "base_uri": "https://localhost:8080/",
     "height": 193
    },
    "colab_type": "code",
    "executionInfo": {
     "elapsed": 11831,
     "status": "ok",
     "timestamp": 1580961778495,
     "user": {
      "displayName": "shubham sanghavi",
      "photoUrl": "",
      "userId": "11841744289252067561"
     },
     "user_tz": 360
    },
    "id": "Hx0CZOu-4ZMF",
    "outputId": "d91843b0-704d-41f4-ab08-733ab401f333"
   },
   "outputs": [
    {
     "name": "stdout",
     "output_type": "stream",
     "text": [
      "K= 1  Acc= 0.97 Bcc= 0.9708557255064076\n",
      "K= 3  Acc= 0.99 Bcc= 0.9915254237288136\n",
      "K= 5  Acc= 0.98 Bcc= 0.9793303017775941\n",
      "K= 7  Acc= 0.97 Bcc= 0.9671351798263745\n",
      "K= 9  Acc= 0.97 Bcc= 0.9671351798263745\n",
      "K= 11  Acc= 0.97 Bcc= 0.9671351798263745\n",
      "K= 13  Acc= 0.97 Bcc= 0.9671351798263745\n",
      "K= 15  Acc= 0.97 Bcc= 0.9671351798263745\n",
      "K= 17  Acc= 0.97 Bcc= 0.9671351798263745\n",
      "K= 19  Acc= 0.97 Bcc= 0.9671351798263745\n"
     ]
    }
   ],
   "source": [
    "for result in results:\n",
    "  print(\"K=\",result[0],\" Acc=\",result[1],\"Bcc=\",result[2])"
   ]
  },
  {
   "cell_type": "code",
   "execution_count": 11,
   "metadata": {
    "colab": {
     "base_uri": "https://localhost:8080/",
     "height": 294
    },
    "colab_type": "code",
    "executionInfo": {
     "elapsed": 12068,
     "status": "ok",
     "timestamp": 1580961778748,
     "user": {
      "displayName": "shubham sanghavi",
      "photoUrl": "",
      "userId": "11841744289252067561"
     },
     "user_tz": 360
    },
    "id": "P9wDtN-mnsur",
    "outputId": "fe1c45a8-7ffc-42b3-b4fd-e73551c62779"
   },
   "outputs": [
    {
     "data": {
      "image/png": "[encoded data removed]",
      "text/plain": [
       "<Figure size 432x288 with 1 Axes>"
      ]
     },
     "metadata": {},
     "output_type": "display_data"
    }
   ],
   "source": [
    "# transform to a numpy array\n",
    "results_np = np.asarray(results)\n",
    "sns.set(\"paper\",\"whitegrid\")\n",
    "\n",
    "plt.plot(results_np[:,0],results_np[:,1],label=\"ACC\")\n",
    "plt.plot(results_np[:,0],results_np[:,2],label=\"BCC\")\n",
    "\n",
    "plt.xticks(results_np[:,0])\n",
    "plt.legend()\n",
    "\n",
    "plt.title('Development set accuracy')\n",
    "plt.xlabel('K')\n",
    "plt.ylabel('Accuracy')\n",
    "\n",
    "plt.show()"
   ]
  },
  {
   "cell_type": "code",
   "execution_count": 12,
   "metadata": {
    "colab": {
     "base_uri": "https://localhost:8080/",
     "height": 52
    },
    "colab_type": "code",
    "executionInfo": {
     "elapsed": 12051,
     "status": "ok",
     "timestamp": 1580961778752,
     "user": {
      "displayName": "shubham sanghavi",
      "photoUrl": "",
      "userId": "11841744289252067561"
     },
     "user_tz": 360
    },
    "id": "ApQoYoyTzIXo",
    "outputId": "1ee5ca74-d5df-40d6-da56-a5c1283f196a"
   },
   "outputs": [
    {
     "name": "stdout",
     "output_type": "stream",
     "text": [
      "Best Accuracy K1 =  3\n",
      "Best Balanced Accuracy K2 =  3\n"
     ]
    }
   ],
   "source": [
    "acc_sorted = sorted(results,key=lambda x:x[1],reverse=True)\n",
    "bcc_sorted = sorted(results,key=lambda x:x[2],reverse=True)\n",
    "\n",
    "K1 = acc_sorted[0][0]\n",
    "K2 = bcc_sorted[0][0]\n",
    "\n",
    "print(\"Best Accuracy K1 = \",K1)\n",
    "print(\"Best Balanced Accuracy K2 = \",K2)\n"
   ]
  },
  {
   "cell_type": "markdown",
   "metadata": {},
   "source": [
    "# (b.iii) Metrics on Test set using K1 and K2"
   ]
  },
  {
   "cell_type": "code",
   "execution_count": 13,
   "metadata": {
    "colab": {},
    "colab_type": "code",
    "id": "haoDF8PJ7X_A"
   },
   "outputs": [],
   "source": [
    "# Calculate the accuracies for test set with this K1 and K2\n",
    "X_test = df_test.iloc[:,:9].values\n",
    "Y_test =  df_test.iloc[:,10].values\n",
    "\n",
    "Best_Ks = [K1,K2]\n",
    "final_results = []\n",
    "\n",
    "for k in Best_Ks:\n",
    "  predictions = np.apply_along_axis(knn_classifier, 1, X_test,k,X_train,Y_train,euclidean)\n",
    "\n",
    "  final_acc = np.sum(predictions==Y_test)/np.shape(Y_test)\n",
    "\n",
    "  pos_idx = np.where(Y_test==True)\n",
    "  neg_idx = np.where(Y_test==False)\n",
    "  final_bcc = 0.5 *  np.sum(predictions[pos_idx]==Y_test[pos_idx])/np.shape(Y_test[pos_idx])\n",
    "  final_bcc += 0.5 * np.sum(predictions[neg_idx]==Y_test[neg_idx])/np.shape(Y_test[neg_idx])\n",
    "  final_results.append([final_acc[0],final_bcc[0]])"
   ]
  },
  {
   "cell_type": "code",
   "execution_count": 14,
   "metadata": {
    "colab": {
     "base_uri": "https://localhost:8080/",
     "height": 298
    },
    "colab_type": "code",
    "executionInfo": {
     "elapsed": 13402,
     "status": "ok",
     "timestamp": 1580961780123,
     "user": {
      "displayName": "shubham sanghavi",
      "photoUrl": "",
      "userId": "11841744289252067561"
     },
     "user_tz": 360
    },
    "id": "LchMUrkc7xcQ",
    "outputId": "3019f332-6e95-431d-d9b2-07666c026c09"
   },
   "outputs": [
    {
     "data": {
      "text/plain": [
       "<Figure size 432x288 with 0 Axes>"
      ]
     },
     "execution_count": 14,
     "metadata": {},
     "output_type": "execute_result"
    },
    {
     "data": {
      "image/png": "[encoded data removed]",
      "text/plain": [
       "<Figure size 432x288 with 1 Axes>"
      ]
     },
     "metadata": {},
     "output_type": "display_data"
    },
    {
     "data": {
      "text/plain": [
       "<Figure size 432x288 with 0 Axes>"
      ]
     },
     "metadata": {},
     "output_type": "display_data"
    }
   ],
   "source": [
    "# report the results\n",
    "final_results = np.asarray(final_results)\n",
    "labels = ['ACC', 'BCC']\n",
    "\n",
    "x = np.arange(len(labels))  # the label locations\n",
    "width = 0.35  # the width of the bars\n",
    "\n",
    "fig, ax = plt.subplots()\n",
    "rects1 = ax.bar(x - width/2, final_results[0,:], width, label='K1')\n",
    "rects2 = ax.bar(x + width/2, final_results[1,:], width, label='K2')\n",
    "\n",
    "# Add some text for labels, title and custom x-axis tick labels, etc.\n",
    "sns.set(\"paper\",\"whitegrid\")\n",
    "ax.set_ylabel('Scores')\n",
    "ax.set_title('Accuracy Metrics Comparision for K1 and K2 on Test Set')\n",
    "ax.set_ylim([0,1.2])\n",
    "ax.set_yticks(np.arange(0.0, 1.1, 0.1))\n",
    "ax.set_xticks(x)\n",
    "ax.set_xticklabels(labels)\n",
    "ax.legend(loc=1)\n",
    "\n",
    "plt.figure()"
   ]
  },
  {
   "cell_type": "code",
   "execution_count": 15,
   "metadata": {},
   "outputs": [
    {
     "name": "stdout",
     "output_type": "stream",
     "text": [
      "[['Euclidean', array([0.95      , 0.93243243])]]\n"
     ]
    }
   ],
   "source": [
    "compare_dist = []\n",
    "compare_dist.append([\"Euclidean\",final_results[0,:]])\n",
    "print(compare_dist)"
   ]
  },
  {
   "cell_type": "markdown",
   "metadata": {},
   "source": [
    "# (b.iv) Bonus: Comparison of different distance computations"
   ]
  },
  {
   "cell_type": "code",
   "execution_count": 16,
   "metadata": {
    "colab": {},
    "colab_type": "code",
    "id": "4StOooEAJkLz"
   },
   "outputs": [],
   "source": [
    "## Storing the Euclidean distance resutls:\n",
    "compare_dist = []\n",
    "compare_dist.append([\"Euclidean\",final_results[0,:]])\n"
   ]
  },
  {
   "cell_type": "code",
   "execution_count": 17,
   "metadata": {
    "colab": {},
    "colab_type": "code",
    "id": "5s8akxBVOazI"
   },
   "outputs": [],
   "source": [
    "def manhattan(vec1,vec2):\n",
    "  vec = (vec1 - vec2)\n",
    "  ans = np.sum(np.absolute(vec))\n",
    "  return ans"
   ]
  },
  {
   "cell_type": "code",
   "execution_count": 18,
   "metadata": {
    "colab": {},
    "colab_type": "code",
    "id": "HPpwJ6dwPdvY"
   },
   "outputs": [],
   "source": [
    "# Get the Best Manhattan score\n",
    "man_results = []\n",
    "for k in range(1,20,2):\n",
    "  # apply to each row in our X_dev\n",
    "  predictions = np.apply_along_axis(knn_classifier, 1, X_dev,k,X_train,Y_train,manhattan)\n",
    "\n",
    "  acc = np.sum(predictions==Y_dev)/np.shape(Y_dev)\n",
    "\n",
    "  pos_idx = np.where(Y_dev==True)\n",
    "  neg_idx = np.where(Y_dev==False)\n",
    "  bcc = 0.5 *  np.sum(predictions[pos_idx]==Y_dev[pos_idx])/np.shape(Y_dev[pos_idx])\n",
    "  bcc += 0.5 * np.sum(predictions[neg_idx]==Y_dev[neg_idx])/np.shape(Y_dev[neg_idx])\n",
    "  man_results.append([k,acc[0],bcc[0]])"
   ]
  },
  {
   "cell_type": "code",
   "execution_count": 19,
   "metadata": {
    "colab": {
     "base_uri": "https://localhost:8080/",
     "height": 294
    },
    "colab_type": "code",
    "executionInfo": {
     "elapsed": 18971,
     "status": "ok",
     "timestamp": 1580961785746,
     "user": {
      "displayName": "shubham sanghavi",
      "photoUrl": "",
      "userId": "11841744289252067561"
     },
     "user_tz": 360
    },
    "id": "vxH__36bPkeb",
    "outputId": "bfe5c392-3421-4ded-8d9e-c69712bc9171"
   },
   "outputs": [
    {
     "data": {
      "image/png": "[encoded data removed]",
      "text/plain": [
       "<Figure size 432x288 with 1 Axes>"
      ]
     },
     "metadata": {},
     "output_type": "display_data"
    }
   ],
   "source": [
    "# how does our accuracy change with k?\n",
    "man_results_np = np.asarray(man_results)\n",
    "sns.set(\"paper\",\"whitegrid\")\n",
    "\n",
    "plt.plot(man_results_np[:,0],man_results_np[:,1],label=\"ACC\")\n",
    "plt.plot(man_results_np[:,0],man_results_np[:,2],label=\"BCC\")\n",
    "\n",
    "plt.xticks(man_results_np[:,0])\n",
    "plt.legend()\n",
    "\n",
    "plt.title('Development set accuracy- Manhattan Distance')\n",
    "plt.xlabel('K')\n",
    "plt.ylabel('Accuracy')\n",
    "\n",
    "plt.show()"
   ]
  },
  {
   "cell_type": "code",
   "execution_count": 20,
   "metadata": {
    "colab": {},
    "colab_type": "code",
    "id": "NY-fGp0JQ6_h"
   },
   "outputs": [],
   "source": [
    "man_acc_sorted = sorted(man_results,key=lambda x:x[1],reverse=True)\n",
    "man_K1 = man_acc_sorted[0][0]\n",
    "\n",
    "predictions = np.apply_along_axis(knn_classifier, 1, X_test,man_K1,X_train,Y_train,manhattan)\n",
    "\n",
    "man_acc = np.sum(predictions==Y_test)/np.shape(Y_test)\n",
    "\n",
    "pos_idx = np.where(Y_test==True)\n",
    "neg_idx = np.where(Y_test==False)\n",
    "man_bcc = 0.5 *  np.sum(predictions[pos_idx]==Y_test[pos_idx])/np.shape(Y_test[pos_idx])\n",
    "man_bcc += 0.5 * np.sum(predictions[neg_idx]==Y_test[neg_idx])/np.shape(Y_test[neg_idx])\n",
    "compare_dist.append([\"Manhattan\",np.asarray([man_acc[0],man_bcc[0]])])\n"
   ]
  },
  {
   "cell_type": "code",
   "execution_count": 21,
   "metadata": {
    "colab": {},
    "colab_type": "code",
    "id": "UiUGFC1USYjt"
   },
   "outputs": [],
   "source": [
    "## Cosine similarity as a distance measure\n",
    "\n",
    "def cos_sim(vec1,vec2):\n",
    "  ans = np.dot(vec1, vec2)/(np.linalg.norm(vec1)*np.linalg.norm(vec2))\n",
    "  return -ans"
   ]
  },
  {
   "cell_type": "code",
   "execution_count": 22,
   "metadata": {
    "colab": {},
    "colab_type": "code",
    "id": "dyFuBZfnTWcA"
   },
   "outputs": [],
   "source": [
    "# Get the Best Cosine score\n",
    "cos_results = []\n",
    "for k in range(1,20,2):\n",
    "  # apply to each row in our X_dev\n",
    "  predictions = np.apply_along_axis(knn_classifier, 1, X_dev,k,X_train,Y_train,cos_sim)\n",
    "\n",
    "  acc = np.sum(predictions==Y_dev)/np.shape(Y_dev)\n",
    "\n",
    "  pos_idx = np.where(Y_dev==True)\n",
    "  neg_idx = np.where(Y_dev==False)\n",
    "  bcc = 0.5 *  np.sum(predictions[pos_idx]==Y_dev[pos_idx])/np.shape(Y_dev[pos_idx])\n",
    "  bcc += 0.5 * np.sum(predictions[neg_idx]==Y_dev[neg_idx])/np.shape(Y_dev[neg_idx])\n",
    "  cos_results.append([k,acc[0],bcc[0]])"
   ]
  },
  {
   "cell_type": "code",
   "execution_count": 23,
   "metadata": {
    "colab": {
     "base_uri": "https://localhost:8080/",
     "height": 294
    },
    "colab_type": "code",
    "executionInfo": {
     "elapsed": 29907,
     "status": "ok",
     "timestamp": 1580961796722,
     "user": {
      "displayName": "shubham sanghavi",
      "photoUrl": "",
      "userId": "11841744289252067561"
     },
     "user_tz": 360
    },
    "id": "Nwg00kRuTY67",
    "outputId": "5b566e28-a078-4cc2-8d61-9a9215f48c5b"
   },
   "outputs": [
    {
     "data": {
      "image/png": "[encoded data removed]",
      "text/plain": [
       "<Figure size 432x288 with 1 Axes>"
      ]
     },
     "metadata": {},
     "output_type": "display_data"
    }
   ],
   "source": [
    "# how does our accuracy change with k?\n",
    "cos_results_np = np.asarray(cos_results)\n",
    "sns.set(\"paper\",\"whitegrid\")\n",
    "\n",
    "plt.plot(cos_results_np[:,0],cos_results_np[:,1],label=\"ACC\")\n",
    "plt.plot(cos_results_np[:,0],cos_results_np[:,2],label=\"BCC\")\n",
    "\n",
    "plt.xticks(cos_results_np[:,0])\n",
    "plt.legend()\n",
    "\n",
    "plt.title('Development set accuracy- Cosine Similarity Distance')\n",
    "plt.xlabel('K')\n",
    "plt.ylabel('Accuracy')\n",
    "\n",
    "plt.show()"
   ]
  },
  {
   "cell_type": "code",
   "execution_count": 24,
   "metadata": {
    "colab": {},
    "colab_type": "code",
    "id": "HD1E8nFUT7GN"
   },
   "outputs": [],
   "source": [
    "cos_acc_sorted = sorted(cos_results,key=lambda x:x[1],reverse=True)\n",
    "cos_K1 = cos_acc_sorted[0][0]\n",
    "\n",
    "predictions = np.apply_along_axis(knn_classifier, 1, X_test,cos_K1,X_train,Y_train,cos_sim)\n",
    "\n",
    "cos_acc = np.sum(predictions==Y_test)/np.shape(Y_test)\n",
    "\n",
    "pos_idx = np.where(Y_test==True)\n",
    "neg_idx = np.where(Y_test==False)\n",
    "cos_bcc = 0.5 *  np.sum(predictions[pos_idx]==Y_test[pos_idx])/np.shape(Y_test[pos_idx])\n",
    "cos_bcc += 0.5 * np.sum(predictions[neg_idx]==Y_test[neg_idx])/np.shape(Y_test[neg_idx])\n",
    "compare_dist.append([\"Cosine\",np.asarray([cos_acc[0],cos_bcc[0]])])\n"
   ]
  },
  {
   "cell_type": "code",
   "execution_count": 25,
   "metadata": {
    "colab": {},
    "colab_type": "code",
    "id": "zrnN_NrcVPw5"
   },
   "outputs": [],
   "source": [
    "## chi-square distance\n",
    "\n",
    "def chi_sqr(vec1,vec2):\n",
    "  vec = (vec1 - vec2) ** 2\n",
    "  vec = vec/np.absolute(vec1+vec2+1e-4)\n",
    "  ans = np.sum(vec)\n",
    "  return np.sqrt(ans)"
   ]
  },
  {
   "cell_type": "code",
   "execution_count": 26,
   "metadata": {
    "colab": {},
    "colab_type": "code",
    "id": "_ZAY9e0tmjd9"
   },
   "outputs": [],
   "source": [
    "# Get the Best Cosine score\n",
    "chi_results = []\n",
    "for k in range(1,20,2):\n",
    "  # apply to each row in our X_dev\n",
    "  predictions = np.apply_along_axis(knn_classifier, 1, X_dev,k,X_train,Y_train,chi_sqr)\n",
    "\n",
    "  acc = np.sum(predictions==Y_dev)/np.shape(Y_dev)\n",
    "\n",
    "  pos_idx = np.where(Y_dev==True)\n",
    "  neg_idx = np.where(Y_dev==False)\n",
    "  bcc = 0.5 *  np.sum(predictions[pos_idx]==Y_dev[pos_idx])/np.shape(Y_dev[pos_idx])\n",
    "  bcc += 0.5 * np.sum(predictions[neg_idx]==Y_dev[neg_idx])/np.shape(Y_dev[neg_idx])\n",
    "  chi_results.append([k,acc[0],bcc[0]])"
   ]
  },
  {
   "cell_type": "code",
   "execution_count": 27,
   "metadata": {
    "colab": {
     "base_uri": "https://localhost:8080/",
     "height": 294
    },
    "colab_type": "code",
    "executionInfo": {
     "elapsed": 39699,
     "status": "ok",
     "timestamp": 1580961806554,
     "user": {
      "displayName": "shubham sanghavi",
      "photoUrl": "",
      "userId": "11841744289252067561"
     },
     "user_tz": 360
    },
    "id": "dtPj0gODmllN",
    "outputId": "aee9ae9e-d3f9-4172-f7bd-776886b1b123"
   },
   "outputs": [
    {
     "data": {
      "image/png": "[encoded data removed]",
      "text/plain": [
       "<Figure size 432x288 with 1 Axes>"
      ]
     },
     "metadata": {},
     "output_type": "display_data"
    }
   ],
   "source": [
    "# how does our accuracy change with k?\n",
    "chi_results_np = np.asarray(chi_results)\n",
    "sns.set(\"paper\",\"whitegrid\")\n",
    "\n",
    "plt.plot(chi_results_np[:,0],chi_results_np[:,1],label=\"ACC\")\n",
    "plt.plot(chi_results_np[:,0],chi_results_np[:,2],label=\"BCC\")\n",
    "\n",
    "plt.xticks(chi_results_np[:,0])\n",
    "plt.legend()\n",
    "\n",
    "plt.title('Development set accuracy- Chi-Square Distance')\n",
    "plt.xlabel('K')\n",
    "plt.ylabel('Accuracy')\n",
    "\n",
    "plt.show()"
   ]
  },
  {
   "cell_type": "code",
   "execution_count": 28,
   "metadata": {
    "colab": {},
    "colab_type": "code",
    "id": "_qKWppo4mua8"
   },
   "outputs": [],
   "source": [
    "chi_acc_sorted = sorted(chi_results,key=lambda x:x[1],reverse=True)\n",
    "chi_K1 = chi_acc_sorted[0][0]\n",
    "\n",
    "predictions = np.apply_along_axis(knn_classifier, 1, X_test,chi_K1,X_train,Y_train,chi_sqr)\n",
    "\n",
    "chi_acc = np.sum(predictions==Y_test)/np.shape(Y_test)\n",
    "\n",
    "pos_idx = np.where(Y_test==True)\n",
    "neg_idx = np.where(Y_test==False)\n",
    "chi_bcc = 0.5 *  np.sum(predictions[pos_idx]==Y_test[pos_idx])/np.shape(Y_test[pos_idx])\n",
    "chi_bcc += 0.5 * np.sum(predictions[neg_idx]==Y_test[neg_idx])/np.shape(Y_test[neg_idx])\n",
    "compare_dist.append([\"Chi-Square\",np.asarray([chi_acc[0],chi_bcc[0]])])\n"
   ]
  },
  {
   "cell_type": "code",
   "execution_count": 29,
   "metadata": {
    "colab": {
     "base_uri": "https://localhost:8080/",
     "height": 54
    },
    "colab_type": "code",
    "executionInfo": {
     "elapsed": 40723,
     "status": "ok",
     "timestamp": 1580961807600,
     "user": {
      "displayName": "shubham sanghavi",
      "photoUrl": "",
      "userId": "11841744289252067561"
     },
     "user_tz": 360
    },
    "id": "LNdunS6GmvEJ",
    "outputId": "33f86ec3-b7b6-4683-d0db-d13215ed5421"
   },
   "outputs": [
    {
     "name": "stdout",
     "output_type": "stream",
     "text": [
      "[['Euclidean', array([0.95      , 0.93243243])], ['Manhattan', array([0.95      , 0.93243243])], ['Cosine', array([0.84      , 0.78936079])], ['Chi-Square', array([0.95      , 0.93243243])]]\n"
     ]
    }
   ],
   "source": [
    "print(compare_dist)"
   ]
  },
  {
   "cell_type": "code",
   "execution_count": 30,
   "metadata": {
    "colab": {
     "base_uri": "https://localhost:8080/",
     "height": 298
    },
    "colab_type": "code",
    "executionInfo": {
     "elapsed": 586,
     "status": "ok",
     "timestamp": 1580963366519,
     "user": {
      "displayName": "shubham sanghavi",
      "photoUrl": "",
      "userId": "11841744289252067561"
     },
     "user_tz": 360
    },
    "id": "YfzGXlxAm8XZ",
    "outputId": "607cef6c-8488-4aab-dccb-3acd9dd07fbb"
   },
   "outputs": [
    {
     "data": {
      "text/plain": [
       "<Figure size 432x288 with 0 Axes>"
      ]
     },
     "execution_count": 30,
     "metadata": {},
     "output_type": "execute_result"
    },
    {
     "data": {
      "image/png": "[encoded data removed]",
      "text/plain": [
       "<Figure size 432x288 with 1 Axes>"
      ]
     },
     "metadata": {},
     "output_type": "display_data"
    },
    {
     "data": {
      "text/plain": [
       "<Figure size 432x288 with 0 Axes>"
      ]
     },
     "metadata": {},
     "output_type": "display_data"
    }
   ],
   "source": [
    "# report the results\n",
    "labels = ['ACC', 'BCC']\n",
    "\n",
    "x = np.arange(len(labels))  # the label locations\n",
    "width = 0.20  # the width of the bars\n",
    "\n",
    "fig, ax = plt.subplots()\n",
    "i = 0\n",
    "\n",
    "for dist_res in compare_dist:\n",
    "  rects1 = ax.bar(x + width*i, dist_res[1], width, label=dist_res[0])\n",
    "  i = i+1\n",
    "\n",
    "# rects2 = ax.bar(x + width/2, final_results[1,:], width, label='K2')\n",
    "\n",
    "# Add some text for labels, title and custom x-axis tick labels, etc.\n",
    "sns.set(\"paper\",\"whitegrid\")\n",
    "ax.set_ylabel('Scores')\n",
    "ax.set_title('Accuracy Metrics Comparision for K1 and K2 on Test Set')\n",
    "ax.set_ylim([0,1.4])\n",
    "ax.set_yticks(np.arange(0.0, 1.1, 0.1))\n",
    "ax.set_xticks(x)\n",
    "ax.set_xticklabels(labels)\n",
    "ax.legend(loc=1)\n",
    "\n",
    "plt.figure()"
   ]
  }
 ],
 "metadata": {
  "colab": {
   "collapsed_sections": [],
   "name": "430000753_csce633_hw1.ipynb",
   "provenance": [],
   "toc_visible": true
  },
  "kernelspec": {
   "display_name": "Python 3",
   "language": "python",
   "name": "python3"
  },
  "language_info": {
   "codemirror_mode": {
    "name": "ipython",
    "version": 3
   },
   "file_extension": ".py",
   "mimetype": "text/x-python",
   "name": "python",
   "nbconvert_exporter": "python",
   "pygments_lexer": "ipython3",
   "version": "3.7.4"
  }
 },
 "nbformat": 4,
 "nbformat_minor": 1
}
