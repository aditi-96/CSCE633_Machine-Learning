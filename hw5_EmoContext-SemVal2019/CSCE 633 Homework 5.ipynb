{
 "cells": [
  {
   "cell_type": "markdown",
   "metadata": {},
   "source": [
    "##### Submitted by Rizu Jain (430000753)"
   ]
  },
  {
   "cell_type": "markdown",
   "metadata": {},
   "source": [
    "# EmoContext (Semeval 2019 Task): Detecting emotions in text "
   ]
  },
  {
   "cell_type": "markdown",
   "metadata": {},
   "source": [
    "## (a) Motivation\n",
    "\n",
    "'Alexa','Ok Google' and 'Siri' have become one of the first few words that babies are learning to speak. Initial lessons in linguistic are learnt by imitation. Hearing these words so often from their parents and everyone around, they tend to mimic them. Such is the presence of AI agents in our lives. However, oftentimes their responses sound apathetic. A trait to imporve is 'EMPATHY'.\n",
    "\n",
    "#### 'Empathy' - the ability to understand and share the feelings of another.\n",
    "\n",
    "Naturally, there is a huge demand for understanding emotions. Especially, with just speech or text as input given that visuals aren't the mode of communication with these agents.\n",
    "\n",
    "Emotions are ambigious and subjective. Lack of facial expressions and voice modulations make detecting emotions in text a challenging problem.\n",
    "\n",
    "However, as we increasingly communicate using text messaging applications and digital agents, contextual \n",
    "emotion detection in text is gaining importance to provide emotionally aware responses to users. \n",
    "\n",
    "## Data\n",
    "[https://www.humanizing-ai.com/emocontext.html]\n",
    "\n",
    "In this task, we are given a textual dialogue i.e. a user utterance along with two turns of context, you have to classify the emotion of user utterance as one of the emotion classes: Happy, Sad, Angry or Others. \n",
    "\n",
    "The data is provided in development and train sets which has been merged for the purpose of this project. The number of labels are roughly half in 'others' and half in the 'Happy', 'Sad' and 'Angry' emotions.\n"
   ]
  },
  {
   "cell_type": "markdown",
   "metadata": {},
   "source": [
    "## (b) Problem Formulation\n",
    "\n",
    "The problem at hand is a supervised classification problem. We will be relying on the sentence utterances for emotion classification.\n",
    "\n",
    "Now, as we have 3 utterances, we will generate 3 sentence embeddings using those 3 utterances. The rational is that we will be able to capture emotional turns in sentences through this seperate sentence embeddings. This might imporve our results at it has the potential of capturing more complex inter-relation between the sentences. "
   ]
  },
  {
   "cell_type": "markdown",
   "metadata": {},
   "source": [
    "## (c) Data pre-processing\n",
    "\n",
    "### Text cleaning\n",
    "(i) Make lowercase<br>\n",
    "(ii) Remove Punctuations<br>\n",
    "(iii) Strip extra spaces<br>\n",
    "(iv) Stemming (optional)<br>\n",
    "\n",
    "### Sentence Embeddings\n",
    "(i) Load Glove word vectors trained on Twitter data (avialble at http://nlp.stanford.edu/data/glove.twitter.27B.zip)<br>\n",
    "(ii) Get the word vectors for each token in the sentence<br>\n",
    "(iii) Average all the word vectors in a sentence to get the sentence vector<br>\n",
    "(iv) Drop data sample where the sentence vectors are all zeros. This could happen in the case of out of vocabulary words.<br>\n"
   ]
  },
  {
   "cell_type": "code",
   "execution_count": 1,
   "metadata": {},
   "outputs": [],
   "source": [
    "import io\n",
    "import re\n",
    "import numpy as np\n",
    "from sklearn.feature_extraction.text import CountVectorizer, TfidfTransformer, TfidfVectorizer\n",
    "from sklearn import svm\n",
    "from sklearn.ensemble import GradientBoostingClassifier, VotingClassifier\n",
    "from sklearn.linear_model import LogisticRegression\n",
    "import time\n",
    "import os\n",
    "\n",
    "from collections import defaultdict\n",
    "from functools import partial\n",
    "import seaborn as sns"
   ]
  },
  {
   "cell_type": "code",
   "execution_count": 2,
   "metadata": {},
   "outputs": [],
   "source": [
    "# process a single word\n",
    "def myParser(word):\n",
    "    \n",
    "    # Remove irrelevant punctuations\n",
    "    # Retain the '-'\n",
    "    remove_punct = '!\"#$&\\'()*+,./;:<=>?@[\\\\]^`{|}~%_'\n",
    "    table = str.maketrans('', '', remove_punct)\n",
    "    word = word.translate(table)\n",
    "    \n",
    "    # handling leading and trailing hyphens\n",
    "    word = word.strip(\"-\")\n",
    "    \n",
    "    # Case Folding\n",
    "    word = word.lower()            \n",
    "    \n",
    "    if use_stemming == True:\n",
    "        # Stem the words user Porter's Algorithm\n",
    "        myStemmer = PorterStemmer()\n",
    "        word = myStemmer.stem(word)\n",
    "                \n",
    "    return word"
   ]
  },
  {
   "cell_type": "code",
   "execution_count": 3,
   "metadata": {},
   "outputs": [],
   "source": [
    "# load wordembeddings\n",
    "def glove_vectors_load(embeddings_file):\n",
    "    f = open(embeddings_file,'r', encoding=\"utf8\")\n",
    "    word_embeddings = defaultdict(partial(np.zeros,wordvec_dim))\n",
    "    for line in f:\n",
    "        splitLine = line.split()\n",
    "        word = splitLine[0]\n",
    "        vector = np.array([float(val) for val in splitLine[1:]])\n",
    "        word_embeddings[word] = vector\n",
    "    return word_embeddings\n",
    "\n",
    "wordvec_dim = 25\n",
    "embeddings = \"glove.twitter.27B.25d.txt\"\n",
    "glove_25d = glove_vectors_load(embeddings)"
   ]
  },
  {
   "cell_type": "code",
   "execution_count": 4,
   "metadata": {},
   "outputs": [
    {
     "name": "stdout",
     "output_type": "stream",
     "text": [
      "32915\n"
     ]
    }
   ],
   "source": [
    "total_samples = 0\n",
    "use_stemming = 0\n",
    "\n",
    "with open('data/train.txt', 'r', encoding=\"utf8\") as f:\n",
    "    total_samples += sum(1 for _ in f)\n",
    "\n",
    "with open('data/dev.txt', 'r', encoding=\"utf8\") as f:\n",
    "    total_samples += sum(1 for _ in f)\n",
    "            \n",
    "print(total_samples)        \n",
    "\n",
    "data = np.zeros((total_samples, (wordvec_dim * 3) + 1))\n",
    "idx = 0\n",
    "\n",
    "labels = {'others':0,'sad':1,'happy':2,'angry':3}\n",
    "\n",
    "with open('data/train.txt', 'r', encoding=\"utf8\") as f:\n",
    "    train_txt = f.readlines()\n",
    "    for sample in train_txt:\n",
    "        sample = sample.strip(\"\\n\")\n",
    "        split_sample = sample.split(\"\\t\")\n",
    "        \n",
    "        # the label \n",
    "        data[idx,-1] = labels[split_sample[-1]]\n",
    "\n",
    "        # lets get the data\n",
    "        for sent_id,sentence in enumerate(split_sample[1:4]):\n",
    "            \n",
    "            # sentence embedding using vector averaging\n",
    "            sentence_vec = np.zeros(wordvec_dim)\n",
    "            words = sentence.split(\" \")\n",
    "            for word in words:\n",
    "                word_parsed = myParser(word)\n",
    "                sentence_vec += glove_25d[word_parsed]\n",
    "            \n",
    "            if len(words) > 0:\n",
    "                data[idx,(wordvec_dim * sent_id):(wordvec_dim * (sent_id+1))] = sentence_vec/len(words)\n",
    "        \n",
    "        # increment index\n",
    "        idx += 1\n",
    "        \n",
    "with open('data/dev.txt', 'r', encoding=\"utf8\") as f:\n",
    "    dev_txt = f.readlines()\n",
    "    for sample in dev_txt:\n",
    "        sample = sample.strip(\"\\n\")\n",
    "        split_sample = sample.split(\"\\t\")\n",
    "        \n",
    "        # the label \n",
    "        data[idx,-1] = labels[split_sample[-1]]\n",
    "\n",
    "        # lets get the data\n",
    "        for sent_id,sentence in enumerate(split_sample[1:4]):\n",
    "            \n",
    "            # sentence embedding using vector averaging\n",
    "            sentence_vec = np.zeros(wordvec_dim)\n",
    "            words = sentence.split(\" \")\n",
    "            for word in words:\n",
    "                word_parsed = myParser(word)\n",
    "                sentence_vec += glove_25d[word_parsed]\n",
    "            \n",
    "            if len(words) > 0:\n",
    "                data[idx,(wordvec_dim * sent_id):(wordvec_dim * (sent_id+1))] = sentence_vec/len(words)\n",
    "        \n",
    "        # increment index\n",
    "        idx += 1\n"
   ]
  },
  {
   "cell_type": "code",
   "execution_count": 5,
   "metadata": {},
   "outputs": [],
   "source": [
    "remove_list = []\n",
    "for i in range(data.shape[0]):\n",
    "    if not np.any(data[i,:-1]):\n",
    "        remove_list.append(i)\n",
    "\n",
    "for k in remove_list:\n",
    "    data.drop(k)  "
   ]
  },
  {
   "cell_type": "markdown",
   "metadata": {},
   "source": [
    "## (d) Data Exploration"
   ]
  },
  {
   "cell_type": "code",
   "execution_count": 6,
   "metadata": {},
   "outputs": [
    {
     "data": {
      "text/plain": [
       "<matplotlib.axes._subplots.AxesSubplot at 0x1c1665b6bc8>"
      ]
     },
     "execution_count": 6,
     "metadata": {},
     "output_type": "execute_result"
    },
    {
     "data": {
      "image/png": "[encoded data removed]",
      "text/plain": [
       "<Figure size 432x288 with 1 Axes>"
      ]
     },
     "metadata": {
      "needs_background": "light"
     },
     "output_type": "display_data"
    }
   ],
   "source": [
    "sns.distplot(data[:,-1],kde=False,bins=8)"
   ]
  },
  {
   "cell_type": "markdown",
   "metadata": {},
   "source": [
    "## (e) Test Train Validation Split"
   ]
  },
  {
   "cell_type": "code",
   "execution_count": 7,
   "metadata": {},
   "outputs": [],
   "source": [
    "from sklearn.linear_model import SGDClassifier\n",
    "from sklearn.model_selection import train_test_split\n",
    "from sklearn.metrics import f1_score"
   ]
  },
  {
   "cell_type": "code",
   "execution_count": 8,
   "metadata": {},
   "outputs": [
    {
     "name": "stdout",
     "output_type": "stream",
     "text": [
      "(26331, 75)\n",
      "(26331,)\n",
      "(3292, 75)\n",
      "(3292,)\n",
      "(3292, 75)\n",
      "(3292,)\n"
     ]
    }
   ],
   "source": [
    "X = data[:,:-1]\n",
    "y = data[:,-1]\n",
    "\n",
    "x_dev, x_test, y_dev, y_test = train_test_split(X,y, test_size=0.1, stratify=y)\n",
    "x_train, x_cross, y_train, y_cross = train_test_split(x_dev,y_dev,test_size=0.1111,stratify=y_dev)\n",
    "\n",
    "print(x_train.shape)\n",
    "print(y_train.shape)\n",
    "print(x_cross.shape)\n",
    "print(y_cross.shape)\n",
    "print(x_test.shape)\n",
    "print(y_test.shape)"
   ]
  },
  {
   "cell_type": "code",
   "execution_count": 9,
   "metadata": {},
   "outputs": [
    {
     "name": "stdout",
     "output_type": "stream",
     "text": [
      "0.6530984204131227\n"
     ]
    }
   ],
   "source": [
    "# base line accuracy\n",
    "test_model = SGDClassifier()\n",
    "test_model.fit(x_train,y_train)\n",
    "y_pred = test_model.predict(x_cross)\n",
    "print(f1_score(y_cross, y_pred, average='micro'))"
   ]
  },
  {
   "cell_type": "markdown",
   "metadata": {},
   "source": [
    "## (f) Feature selection"
   ]
  },
  {
   "cell_type": "code",
   "execution_count": 10,
   "metadata": {},
   "outputs": [],
   "source": [
    "def select_features(train, cross, train_labels, cross_labels):\n",
    "    selected = []\n",
    "    validation_losses = []\n",
    "    prev_best = 0\n",
    "    for count_features in range(50):\n",
    "        losses = [] \n",
    "        model = SGDClassifier()\n",
    "        for col in range(x_train.shape[1]):\n",
    "            \n",
    "            if col in selected:\n",
    "                continue\n",
    "\n",
    "            candidate = selected.copy()\n",
    "            candidate.append(col)\n",
    "            \n",
    "            model.fit(train[:,candidate], train_labels)\n",
    "            y_pred = model.predict(cross[:,candidate])\n",
    "            \n",
    "            losses.append((f1_score(cross_labels, y_pred,average = 'micro'),col))\n",
    "\n",
    "        # current best accuracies\n",
    "        losses.sort(key=lambda x : x[0], reverse = True)\n",
    "        selected.append(losses[0][1])\n",
    "        validation_losses.append(losses[0][0])\n",
    "    return selected,validation_losses"
   ]
  },
  {
   "cell_type": "code",
   "execution_count": 11,
   "metadata": {},
   "outputs": [],
   "source": [
    "features,val_losses =select_features(x_train[:10000], x_cross, y_train[:10000], y_cross)"
   ]
  },
  {
   "cell_type": "code",
   "execution_count": 12,
   "metadata": {},
   "outputs": [
    {
     "data": {
      "text/plain": [
       "Text(0.5, 1.0, 'Validation accuracy V/S features')"
      ]
     },
     "execution_count": 12,
     "metadata": {},
     "output_type": "execute_result"
    },
    {
     "data": {
      "image/png": "[encoded data removed]",
      "text/plain": [
       "<Figure size 432x288 with 1 Axes>"
      ]
     },
     "metadata": {
      "needs_background": "light"
     },
     "output_type": "display_data"
    }
   ],
   "source": [
    "import seaborn as sns\n",
    "import matplotlib as plt\n",
    "\n",
    "ax = sns.lineplot(range(len(val_losses)),val_losses)\n",
    "ax.set_title('Validation accuracy V/S features')\n"
   ]
  },
  {
   "cell_type": "markdown",
   "metadata": {},
   "source": [
    "#### Selecting 30 features"
   ]
  },
  {
   "cell_type": "code",
   "execution_count": 13,
   "metadata": {},
   "outputs": [
    {
     "name": "stdout",
     "output_type": "stream",
     "text": [
      "Testing Accuracy:  0.6096597812879708\n"
     ]
    }
   ],
   "source": [
    "model = SGDClassifier()\n",
    "model.fit(x_train[:,features[:30]], y_train)\n",
    "y_pred = model.predict(x_test[:,features[:30]])\n",
    "acc = f1_score(y_test, y_pred,average = 'micro')\n",
    "print(\"Testing Accuracy: \", acc)"
   ]
  },
  {
   "cell_type": "markdown",
   "metadata": {},
   "source": [
    "## (g) Feature transformation"
   ]
  },
  {
   "cell_type": "code",
   "execution_count": 14,
   "metadata": {},
   "outputs": [],
   "source": [
    "from numpy import mean\n",
    "from numpy import cov\n",
    "from numpy.linalg import eig\n",
    "\n",
    "M = mean(x_train.T, axis=1)\n",
    "cx_train = x_train - M\n",
    "cx_cross = x_cross - M\n",
    "cx_test = x_test - M\n",
    "V = cov(cx_train.T)\n",
    "\n",
    "eig_values, eig_vectors = eig(V)"
   ]
  },
  {
   "cell_type": "code",
   "execution_count": 15,
   "metadata": {},
   "outputs": [],
   "source": [
    "pca_s = []\n",
    "pca_acc = []\n",
    "\n",
    "for k in range(1,len(eig_values)+1):\n",
    "    pca_model = SGDClassifier()\n",
    "    mat_in = eig_vectors[:,:k].T.dot(cx_train.T)\n",
    "    pca_model.fit(mat_in.T, y_train)\n",
    "    cross_in = eig_vectors[:,:k].T.dot(cx_cross.T)\n",
    "    y_pred = pca_model.predict(cross_in.T)\n",
    "    acc = f1_score(y_cross, y_pred,average = 'micro')\n",
    "    S = sum(eig_values[:k])/sum(eig_values)\n",
    "    pca_s.append(S)\n",
    "    pca_acc.append(acc)"
   ]
  },
  {
   "cell_type": "code",
   "execution_count": 16,
   "metadata": {},
   "outputs": [
    {
     "data": {
      "text/plain": [
       "Text(0.5, 1.0, 'PCA eigen values (S)')"
      ]
     },
     "execution_count": 16,
     "metadata": {},
     "output_type": "execute_result"
    },
    {
     "data": {
      "image/png": "[encoded data removed]",
      "text/plain": [
       "<Figure size 432x288 with 1 Axes>"
      ]
     },
     "metadata": {
      "needs_background": "light"
     },
     "output_type": "display_data"
    }
   ],
   "source": [
    "ax = sns.lineplot(range(len(pca_s)),pca_s,label=\"S\",color='red')\n",
    "ax.set_title('PCA eigen values (S)')"
   ]
  },
  {
   "cell_type": "code",
   "execution_count": 17,
   "metadata": {},
   "outputs": [
    {
     "data": {
      "text/plain": [
       "Text(0.5, 1.0, 'PCA Validation Accuracy')"
      ]
     },
     "execution_count": 17,
     "metadata": {},
     "output_type": "execute_result"
    },
    {
     "data": {
      "image/png": "[encoded data removed]",
      "text/plain": [
       "<Figure size 432x288 with 1 Axes>"
      ]
     },
     "metadata": {
      "needs_background": "light"
     },
     "output_type": "display_data"
    }
   ],
   "source": [
    "ax = sns.lineplot(range(len(pca_acc)),pca_acc,label=\"val_acc\")\n",
    "ax.set_title('PCA Validation Accuracy')"
   ]
  },
  {
   "cell_type": "markdown",
   "metadata": {},
   "source": [
    "#### There is an approximately linear increase in validation accuracy. We will go for K = 50"
   ]
  },
  {
   "cell_type": "code",
   "execution_count": 18,
   "metadata": {},
   "outputs": [
    {
     "name": "stdout",
     "output_type": "stream",
     "text": [
      "Testing Accuracy:  0.6303159173754557\n"
     ]
    }
   ],
   "source": [
    "k=50\n",
    "pca_model = SGDClassifier()\n",
    "mat_in = eig_vectors[:,:k].T.dot(cx_train.T)\n",
    "pca_model.fit(mat_in.T, y_train)\n",
    "test_in = eig_vectors[:,:k].T.dot(cx_test.T)\n",
    "y_pred = pca_model.predict(test_in.T)\n",
    "test_acc = f1_score(y_test, y_pred,average = 'micro')\n",
    "print(\"Testing Accuracy: \",test_acc)"
   ]
  },
  {
   "cell_type": "markdown",
   "metadata": {},
   "source": [
    "## (h) SVM"
   ]
  },
  {
   "cell_type": "markdown",
   "metadata": {},
   "source": [
    "### Comparing Kernels"
   ]
  },
  {
   "cell_type": "code",
   "execution_count": 19,
   "metadata": {},
   "outputs": [
    {
     "name": "stdout",
     "output_type": "stream",
     "text": [
      "Kernel:  linear\n",
      "Validation F1:  0.6649453219927096\n",
      "Kernel:  poly\n",
      "Validation F1:  0.6676792223572297\n",
      "Kernel:  rbf\n",
      "Validation F1:  0.68408262454435\n",
      "Kernel:  sigmoid\n",
      "Validation F1:  0.5042527339003645\n"
     ]
    }
   ],
   "source": [
    "from sklearn.svm import SVC\n",
    "kernels = [\"linear\", \"poly\", \"rbf\", \"sigmoid\"]\n",
    "\n",
    "for kernel in kernels:\n",
    "    linear_svc = SVC(gamma = \"auto\",kernel=kernel)\n",
    "    linear_svc.fit(x_train,y_train)\n",
    "    y_pred = linear_svc.predict(x_cross)\n",
    "    val_acc = f1_score(y_cross, y_pred,average = 'micro')\n",
    "    print(\"Kernel: \",kernel)\n",
    "    print(\"Validation F1: \",val_acc)"
   ]
  },
  {
   "cell_type": "markdown",
   "metadata": {},
   "source": [
    "#### Although the results are pretty close 'RBF' kernel gives the best accuracy.\n",
    "Also, using 'RBF' seems reasonable for this classification task where we expect to have non-linear boundaries.<br>\n",
    "We will fine tune the other parameters for this kernel type."
   ]
  },
  {
   "cell_type": "code",
   "execution_count": 20,
   "metadata": {},
   "outputs": [
    {
     "name": "stdout",
     "output_type": "stream",
     "text": [
      "C:  0.1 Gamma:  0.1\n",
      "Validation F1:  0.6497569866342648\n",
      "C:  0.1 Gamma:  0.01\n",
      "Validation F1:  0.5883961117861483\n",
      "C:  0.01 Gamma:  0.1\n",
      "Validation F1:  0.5252126366950183\n",
      "C:  0.01 Gamma:  0.01\n",
      "Validation F1:  0.5252126366950183\n"
     ]
    }
   ],
   "source": [
    "Cs = [0.1,0.01]\n",
    "gammas = [0.1,0.01]\n",
    "\n",
    "best_svm_acc = 0\n",
    "best_c = None\n",
    "best_gamma = None\n",
    "\n",
    "for C in Cs:\n",
    "    for gamma in gammas:\n",
    "        linear_svc = SVC(C=C,gamma = gamma,kernel='rbf')\n",
    "        linear_svc.fit(x_train,y_train)\n",
    "        y_pred = linear_svc.predict(x_cross)\n",
    "        val_acc = f1_score(y_cross, y_pred,average = 'micro')\n",
    "        print(\"C: \",C,\"Gamma: \",gamma)\n",
    "        print(\"Validation F1: \",val_acc)\n",
    "        if val_acc > best_svm_acc:\n",
    "            best_svm_acc = val_acc\n",
    "            best_c = C\n",
    "            best_gamma = gamma"
   ]
  },
  {
   "cell_type": "code",
   "execution_count": 21,
   "metadata": {},
   "outputs": [
    {
     "name": "stdout",
     "output_type": "stream",
     "text": [
      "Testing Accuracy:  0.6464155528554071\n"
     ]
    }
   ],
   "source": [
    "linear_svc = SVC(C=best_c,gamma = best_gamma,kernel='rbf')\n",
    "linear_svc.fit(x_train,y_train)\n",
    "y_pred = linear_svc.predict(x_test)\n",
    "test_acc = f1_score(y_test, y_pred,average = 'micro')\n",
    "print(\"Testing Accuracy: \", test_acc)"
   ]
  },
  {
   "cell_type": "markdown",
   "metadata": {},
   "source": [
    "## (i) Ensemble learning"
   ]
  },
  {
   "cell_type": "code",
   "execution_count": 22,
   "metadata": {},
   "outputs": [
    {
     "name": "stdout",
     "output_type": "stream",
     "text": [
      "Num of Estimators:  25 \t\tLearning rate:  0.1\n",
      "Val. Accuracy:  0.6546172539489672\n",
      "Num of Estimators:  25 \t\tLearning rate:  0.03\n",
      "Val. Accuracy:  0.6698055893074119\n",
      "Num of Estimators:  50 \t\tLearning rate:  0.1\n",
      "Val. Accuracy:  0.6564398541919806\n",
      "Num of Estimators:  50 \t\tLearning rate:  0.03\n",
      "Val. Accuracy:  0.6786148238153098\n",
      "Num of Estimators:  100 \t\tLearning rate:  0.1\n",
      "Val. Accuracy:  0.6546172539489672\n",
      "Num of Estimators:  100 \t\tLearning rate:  0.03\n",
      "Val. Accuracy:  0.6767922235722965\n"
     ]
    }
   ],
   "source": [
    "from sklearn.ensemble import AdaBoostClassifier\n",
    "from sklearn.tree import DecisionTreeClassifier\n",
    "\n",
    "estimators = [25,50,100]\n",
    "learning_rates = [0.1,0.03]\n",
    "best_acc = 0\n",
    "best_n_est = None\n",
    "best_lr = None\n",
    "\n",
    "for n_est in estimators:\n",
    "    for lr in learning_rates:\n",
    "        ada_model = AdaBoostClassifier(DecisionTreeClassifier(max_depth=10),n_estimators=n_est,learning_rate=lr)\n",
    "        ada_model.fit(x_train, y_train)\n",
    "        y_pred = ada_model.predict(x_cross)\n",
    "        acc = f1_score(y_cross, y_pred,average = 'micro')\n",
    "        print(\"Num of Estimators: \",n_est,\"\\t\\tLearning rate: \",lr)\n",
    "        print(\"Val. Accuracy: \",acc)\n",
    "        \n",
    "        if acc > best_acc:\n",
    "            best_n_est = n_est\n",
    "            best_lr = lr"
   ]
  },
  {
   "cell_type": "code",
   "execution_count": 23,
   "metadata": {},
   "outputs": [
    {
     "name": "stdout",
     "output_type": "stream",
     "text": [
      "Testing Accuracy:  0.6643377885783718\n"
     ]
    }
   ],
   "source": [
    "model = AdaBoostClassifier(DecisionTreeClassifier(max_depth=10),n_estimators=best_n_est,learning_rate=best_lr)\n",
    "model.fit(x_train, y_train)\n",
    "y_pred = model.predict(x_test)\n",
    "acc = f1_score(y_test, y_pred,average = 'micro')\n",
    "print(\"Testing Accuracy: \", acc)"
   ]
  },
  {
   "cell_type": "markdown",
   "metadata": {},
   "source": [
    "#### As we can see, Adaboost gives significantly better performance than the feature selection and feature extraction methods beating the testing accuracies of both the methods."
   ]
  }
 ],
 "metadata": {
  "kernelspec": {
   "display_name": "Python 3",
   "language": "python",
   "name": "python3"
  },
  "language_info": {
   "codemirror_mode": {
    "name": "ipython",
    "version": 3
   },
   "file_extension": ".py",
   "mimetype": "text/x-python",
   "name": "python",
   "nbconvert_exporter": "python",
   "pygments_lexer": "ipython3",
   "version": "3.7.4"
  }
 },
 "nbformat": 4,
 "nbformat_minor": 2
}
